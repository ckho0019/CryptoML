{
  "nbformat": 4,
  "nbformat_minor": 0,
  "metadata": {
    "colab": {
      "name": "eval.ipynb",
      "provenance": [],
      "collapsed_sections": []
    },
    "kernelspec": {
      "name": "python3",
      "display_name": "Python 3"
    },
    "language_info": {
      "name": "python"
    },
    "accelerator": "GPU"
  },
  "cells": [
    {
      "cell_type": "code",
      "metadata": {
        "id": "jzu6t5EKZGyQ"
      },
      "source": [
        "from google.colab import drive\n",
        "drive.mount('/content/gdrive/')"
      ],
      "execution_count": null,
      "outputs": []
    },
    {
      "cell_type": "code",
      "metadata": {
        "id": "JpeTW4zT-XfM"
      },
      "source": [
        "# MODIFY HERE TO YOUR PATH IN GOOGLE DRIVE\n",
        "%cd /content/gdrive/MyDrive/CryptoML"
      ],
      "execution_count": null,
      "outputs": []
    },
    {
      "cell_type": "code",
      "metadata": {
        "id": "EdjcptLg-wwM"
      },
      "source": [
        "!pip install shap"
      ],
      "execution_count": null,
      "outputs": []
    },
    {
      "cell_type": "code",
      "metadata": {
        "id": "OAtM9RY1-mqc"
      },
      "source": [
        "import speck as sp\n",
        "import numpy as np\n",
        "\n",
        "def evaluate(net,X,Y):\n",
        "    Z = net.predict(X,batch_size=10000).flatten()\n",
        "    Zbin = (Z > 0.5)\n",
        "    diff = Y - Z \n",
        "    mse = np.mean(diff*diff)\n",
        "    n = len(Z) \n",
        "    n0 = np.sum(Y==0) \n",
        "    n1 = np.sum(Y==1)\n",
        "    acc = np.sum(Zbin == Y) / n\n",
        "    tpr = np.sum(Zbin[Y==1]) / n1\n",
        "    tnr = np.sum(Zbin[Y==0] == 0) / n0\n",
        "    mreal = np.median(Z[Y==1])\n",
        "    high_random = np.sum(Z[Y==0] > mreal) / n0\n",
        "    print(\"Accuracy: \", acc, \"TPR: \", tpr, \"TNR: \", tnr, \"MSE:\", mse)\n",
        "    print(\"Percentage of random pairs with score higher than median of real pairs:\", 100 * high_random)"
      ],
      "execution_count": 4,
      "outputs": []
    },
    {
      "cell_type": "code",
      "metadata": {
        "id": "hgzPd6ZA-4XT"
      },
      "source": [
        "import shap\n",
        "from keras.models import load_model\n",
        "\n",
        "dir = './models/'\n",
        "\n",
        "# MODIFY HERE\n",
        "num_of_plaintexts = 4\n",
        "num_rounds = 5\n",
        "num_of_samples = 10\n",
        "net = load_model(dir + \"best5depth10.h5\")\n",
        "\n",
        "if num_of_plaintexts == 2:\n",
        "    X,Y = sp.make_train_data_2pt(10**6, num_rounds)\n",
        "    Xr, Yr = sp.real_differences_data_2pt(10**6, num_rounds)\n",
        "\n",
        "else:\n",
        "    X,Y = sp.make_train_data_4pt(10**6, num_rounds)\n",
        "    Xr, Yr = sp.real_differences_data_4pt(10**6, num_rounds)"
      ],
      "execution_count": 7,
      "outputs": []
    },
    {
      "cell_type": "code",
      "metadata": {
        "id": "3q8kuQO4_Bzi"
      },
      "source": [
        "print('Testing neural distinguishers against blocks in the ordinary real vs random setting')\n",
        "evaluate(net, X, Y)\n",
        "\n",
        "shap.initjs()\n",
        "explainer = shap.KernelExplainer(net.predict, X[:num_of_samples])\n",
        "shap_values = explainer.shap_values(X[:num_of_samples])\n",
        "shap.force_plot(explainer.expected_value[0], shap_values[0], X)"
      ],
      "execution_count": null,
      "outputs": []
    },
    {
      "cell_type": "code",
      "metadata": {
        "id": "o6hoseLt_DF-"
      },
      "source": [
        "print('Testing real differences setting now.')\n",
        "evaluate(net, Xr, Yr)\n",
        "\n",
        "shap.initjs()\n",
        "explainer = shap.KernelExplainer(net.predict, Xr[:num_of_samples])\n",
        "shap_values = explainer.shap_values(Xr[:num_of_samples])\n",
        "shap.force_plot(explainer.expected_value[0], shap_values[0], Xr)"
      ],
      "execution_count": null,
      "outputs": []
    }
  ]
}